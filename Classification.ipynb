{
  "nbformat": 4,
  "nbformat_minor": 0,
  "metadata": {
    "colab": {
      "name": "Classification.ipynb",
      "provenance": [],
      "collapsed_sections": [],
      "authorship_tag": "ABX9TyPiXpcd4ByQXv4EejV+sEuz",
      "include_colab_link": true
    },
    "kernelspec": {
      "name": "python3",
      "display_name": "Python 3"
    }
  },
  "cells": [
    {
      "cell_type": "markdown",
      "metadata": {
        "id": "view-in-github",
        "colab_type": "text"
      },
      "source": [
        "<a href=\"https://colab.research.google.com/github/anandaptralmira/classification/blob/master/Classification.ipynb\" target=\"_parent\"><img src=\"https://colab.research.google.com/assets/colab-badge.svg\" alt=\"Open In Colab\"/></a>"
      ]
    },
    {
      "cell_type": "markdown",
      "metadata": {
        "id": "nBA25ovNc-YU"
      },
      "source": [
        "# **Classification Models**\n",
        "```\n",
        "1.  Age       : (numeric)\n",
        "2.  Job       : (categorical: 'admin.','blue-collar','entrepreneur','housemaid','management','retired','self-employed','services','student','technician','unemployed','unknown')\n",
        "3.  Marital   : (categorical: 'divorced','married','single','unknown')\n",
        "4.  Education : (categorical: primary, secondary, tertiary and unknown)\n",
        "5.  Default   : (categorical: 'no','yes','unknown')\n",
        "6.  Housing   : (categorical: 'no','yes','unknown')\n",
        "7.  Loan      : (categorical: 'no','yes','unknown')\n",
        "8.  Balance   : Balance of the individual.\n",
        "9.  Contact   : (categorical: 'cellular','telephone')\n",
        "10. Month     : (categorical: 'jan', 'feb', 'mar', ..., 'nov', 'dec')\n",
        "11. Day       : (categorical: 'mon','tue','wed','thu','fri')\n",
        "12. Duration  : Last contact duration, in seconds (numeric). \n",
        "13. Campaign  : (numeric, includes last contact)\n",
        "14. Pdays     : (numeric; 999 means client was not previously contacted)\n",
        "15. Previous  : (numeric)\n",
        "16. Poutcome  : (categorical: 'failure','nonexistent','success')\n",
        "17. y(deposit): (binary: 'yes','no')\n",
        "```"
      ]
    },
    {
      "cell_type": "code",
      "metadata": {
        "id": "0BCczBu8Usoe"
      },
      "source": [
        "# import libraries\n",
        "import pandas as pd\n",
        "import numpy as np\n",
        "import matplotlib.pyplot as plt\n",
        "\n",
        "from sklearn.preprocessing import StandardScaler\n",
        "from sklearn.preprocessing import LabelEncoder\n",
        "\n",
        "from sklearn.pipeline import make_pipeline\n",
        "from sklearn.model_selection import StratifiedShuffleSplit, StratifiedKFold\n",
        "from sklearn.model_selection import train_test_split, cross_val_score\n",
        "from sklearn.model_selection import GridSearchCV\n",
        "\n",
        "import xgboost as xgb\n",
        "from sklearn.neighbors import KNeighborsClassifier\n",
        "from sklearn.ensemble import GradientBoostingClassifier\n",
        "from sklearn.naive_bayes import GaussianNB\n",
        "\n",
        "from sklearn import metrics"
      ],
      "execution_count": null,
      "outputs": []
    },
    {
      "cell_type": "code",
      "metadata": {
        "id": "Z4DmIGBhVaCT"
      },
      "source": [
        "# import data to colab\n",
        "df_dep = pd.read_csv('https://raw.githubusercontent.com/anandaptralmira/classification/master/data/bank.csv', sep= ',')\n",
        "df_dep\n",
        "\n",
        "# have a grasp of the data\n",
        "df_dep.head()"
      ],
      "execution_count": null,
      "outputs": []
    },
    {
      "cell_type": "code",
      "metadata": {
        "id": "wHAz8au3aekz"
      },
      "source": [
        "# show the dataset information\n",
        "df_dep.info()"
      ],
      "execution_count": null,
      "outputs": []
    },
    {
      "cell_type": "code",
      "metadata": {
        "id": "HrFD9kQCc32T"
      },
      "source": [
        "# check for missing value\n",
        "df_dep.isnull().sum()"
      ],
      "execution_count": null,
      "outputs": []
    },
    {
      "cell_type": "markdown",
      "metadata": {
        "id": "Q14VBJ6GdRov"
      },
      "source": [
        "#### **Descriptive Statistic**"
      ]
    },
    {
      "cell_type": "code",
      "metadata": {
        "id": "hEpYk8Z0dYGl"
      },
      "source": [
        "# show the descriptive statistics of the numerical attributes\n",
        "df_dep.describe()"
      ],
      "execution_count": null,
      "outputs": []
    },
    {
      "cell_type": "code",
      "metadata": {
        "id": "cy4IFHiidakR"
      },
      "source": [
        "# show the types of the categorical attributes\n",
        "for col in df_dep.select_dtypes(include='object').columns:\n",
        "  print(col)\n",
        "  print(df_dep[col].unique())"
      ],
      "execution_count": null,
      "outputs": []
    },
    {
      "cell_type": "code",
      "metadata": {
        "id": "dgn-fBXpddJP"
      },
      "source": [
        "# drop the duration variable\n",
        "df_dep.drop(\"duration\", axis=1, inplace=True)"
      ],
      "execution_count": null,
      "outputs": []
    },
    {
      "cell_type": "markdown",
      "metadata": {
        "id": "2cBF2BCldqsT"
      },
      "source": [
        "#### **Checking Class Balance**"
      ]
    },
    {
      "cell_type": "code",
      "metadata": {
        "id": "PQny7uZQdsgb",
        "outputId": "45c1d0eb-9199-4818-dde3-a9a8cf585d16",
        "colab": {
          "base_uri": "https://localhost:8080/"
        }
      },
      "source": [
        "# checking class balance\n",
        "df_dep.deposit.value_counts()/df_dep.deposit.count()"
      ],
      "execution_count": null,
      "outputs": [
        {
          "output_type": "execute_result",
          "data": {
            "text/plain": [
              "no     0.52616\n",
              "yes    0.47384\n",
              "Name: deposit, dtype: float64"
            ]
          },
          "metadata": {
            "tags": []
          },
          "execution_count": 15
        }
      ]
    },
    {
      "cell_type": "markdown",
      "metadata": {
        "id": "duPJ6ngOd3Kx"
      },
      "source": [
        "#### **Partitioning**"
      ]
    },
    {
      "cell_type": "code",
      "metadata": {
        "id": "o0mzrpcld7ab"
      },
      "source": [
        "# preserve class proportion using StratifiedShuffleSplit\n",
        "sss=StratifiedShuffleSplit(n_splits=1, test_size=0.3, random_state=1) # the proportion is 70:30\n",
        "for train_index, test_index in sss.split(df_dep.drop(\"deposit\", axis=1), df_dep.deposit):\n",
        "      traindf=df_dep.loc[train_index]\n",
        "      testdf=df_dep.loc[test_index]"
      ],
      "execution_count": null,
      "outputs": []
    },
    {
      "cell_type": "markdown",
      "metadata": {
        "id": "r-CSkIPEeRe8"
      },
      "source": [
        "#### **Data Preprocessing**"
      ]
    },
    {
      "cell_type": "code",
      "metadata": {
        "id": "xOeNGCoSeT0-"
      },
      "source": [
        "# encoding target label\n",
        "LE=LabelEncoder()\n",
        "df_dep['deposit']=LE.fit_transform(df_dep.deposit.values)\n",
        "\n",
        "# encoding categorical features\n",
        "df_dep=pd.get_dummies(df_dep)\n",
        "\n",
        "df_dep"
      ],
      "execution_count": null,
      "outputs": []
    },
    {
      "cell_type": "code",
      "metadata": {
        "id": "jSHNU7oIfpOK"
      },
      "source": [
        "# partitioning again\n",
        "for train_index, test_index in sss.split(df_dep.drop(\"deposit\", axis=1), df_dep.deposit):\n",
        "  traindf=df_dep.loc[train_index]\n",
        "  testdf=df_dep.loc[test_index]"
      ],
      "execution_count": null,
      "outputs": []
    },
    {
      "cell_type": "code",
      "metadata": {
        "id": "nlc2pVG1fzI_"
      },
      "source": [
        "# partition x/y\n",
        "xtrain=traindf.drop('deposit', axis=1)\n",
        "ytrain=traindf.deposit\n",
        "\n",
        "xtest=testdf.drop('deposit', axis=1)\n",
        "ytest=testdf.deposit\n",
        "\n",
        "ytest"
      ],
      "execution_count": null,
      "outputs": []
    },
    {
      "cell_type": "markdown",
      "metadata": {
        "id": "VbxQd--OgJVv"
      },
      "source": [
        "#### **Classification Model Using Naive Bayes**"
      ]
    },
    {
      "cell_type": "code",
      "metadata": {
        "id": "Vkz330tqgQi0"
      },
      "source": [
        "# modelling Naive Bayes Classifier\n",
        "gnb = GaussianNB()\n",
        "#gnb_scores = cross_val_score(gnb, xtrain, ytrain, cv=3)\n",
        "gnb.fit(xtrain,ytrain)\n",
        "\n",
        "# predict to test data\n",
        "y_pred_gnb = gnb.predict(xtest)"
      ],
      "execution_count": null,
      "outputs": []
    },
    {
      "cell_type": "code",
      "metadata": {
        "id": "btYZCW8UglI0",
        "outputId": "cc3a7206-56e3-416b-fc5d-5778aebd9f41",
        "colab": {
          "base_uri": "https://localhost:8080/"
        }
      },
      "source": [
        "# show the confusion matrix\n",
        "cm_gnb = metrics.confusion_matrix(ytest, y_pred_gnb)\n",
        "cm_gnb"
      ],
      "execution_count": null,
      "outputs": [
        {
          "output_type": "execute_result",
          "data": {
            "text/plain": [
              "array([[1460,  302],\n",
              "       [ 704,  883]])"
            ]
          },
          "metadata": {
            "tags": []
          },
          "execution_count": 33
        }
      ]
    },
    {
      "cell_type": "code",
      "metadata": {
        "id": "N2Z7vELbgpKI"
      },
      "source": [
        "# show the accuracy, precision, recall\n",
        "acc_gnb = metrics.accuracy_score(ytest, y_pred_gnb)\n",
        "prec_gnb = metrics.precision_score(ytest, y_pred_gnb)\n",
        "rec_gnb = metrics.recall_score(ytest, y_pred_gnb)\n",
        "f1_gnb = metrics.f1_score(ytest, y_pred_gnb)\n",
        "kappa_gnb = metrics.cohen_kappa_score(ytest, y_pred_gnb)\n",
        "\n",
        "print('Accuracy:', acc_gnb)\n",
        "print('Precision:', prec_gnb)\n",
        "print('Recall:', rec_gnb)\n",
        "print('F1 Score:', f1_gnb)\n",
        "print('Cohens Kappa Score:', kappa_gnb)"
      ],
      "execution_count": null,
      "outputs": []
    },
    {
      "cell_type": "code",
      "metadata": {
        "id": "1bejlKMPgsfz"
      },
      "source": [
        "# personalize the visualization\n",
        "plt.rcParams['figure.figsize'] = (10,10)\n",
        "plt.style.use('ggplot')\n",
        "\n",
        "# ROC Curve\n",
        "y_pred_gnb_prob = gnb.predict_proba(xtest)[::,1]\n",
        "fprgnb, tprgnb, _ = metrics.roc_curve(ytest,  y_pred_gnb_prob)\n",
        "aucgnb = metrics.roc_auc_score(ytest, y_pred_gnb_prob)\n",
        "plt.plot(fprgnb,tprgnb,label=\"Naive Bayes, auc=\"+str(aucgnb))\n",
        "plt.title('ROC Curve - Naive Bayes')\n",
        "plt.xlabel('false positive rate') \n",
        "plt.ylabel('true positive rate')\n",
        "plt.legend(loc=4)\n",
        "plt.show()"
      ],
      "execution_count": null,
      "outputs": []
    },
    {
      "cell_type": "markdown",
      "metadata": {
        "id": "nQyBYUfog0sl"
      },
      "source": [
        "#### **Classification Model Using KNN**"
      ]
    },
    {
      "cell_type": "code",
      "metadata": {
        "id": "Gr7oeHcMg18N"
      },
      "source": [
        "# modeling\n",
        "knn_clf = KNeighborsClassifier()\n",
        "knn_clf.fit(xtrain, ytrain)\n",
        "\n",
        "# predict to test data\n",
        "y_pred_knn = knn_clf.predict(xtest)"
      ],
      "execution_count": null,
      "outputs": []
    },
    {
      "cell_type": "code",
      "metadata": {
        "id": "MmkGWTVxg4MD"
      },
      "source": [
        "# show the confusion matrix\n",
        "cm_knn = metrics.confusion_matrix(ytest, y_pred_knn)\n",
        "cm_knn"
      ],
      "execution_count": null,
      "outputs": []
    },
    {
      "cell_type": "code",
      "metadata": {
        "id": "ETp_DUr3g-XL"
      },
      "source": [
        "# show the accuracy, precision, recall\n",
        "acc_knn = metrics.accuracy_score(ytest, y_pred_knn)\n",
        "prec_knn = metrics.precision_score(ytest, y_pred_knn)\n",
        "rec_knn = metrics.recall_score(ytest, y_pred_knn)\n",
        "f1_knn = metrics.f1_score(ytest, y_pred_knn)\n",
        "kappa_knn = metrics.cohen_kappa_score(ytest, y_pred_knn)\n",
        "\n",
        "print('Accuracy:', acc_knn)\n",
        "print('Precision:', prec_knn)\n",
        "print('Recall:', rec_knn)\n",
        "print('F1 Score:', f1_knn)\n",
        "print('Cohens Kappa Score:', kappa_knn)"
      ],
      "execution_count": null,
      "outputs": []
    },
    {
      "cell_type": "code",
      "metadata": {
        "id": "pE5e7tk9g-_g"
      },
      "source": [
        "# personalize the visualization\n",
        "plt.rcParams['figure.figsize'] = (10,10)\n",
        "plt.style.use('ggplot')\n",
        "\n",
        "# ROC Curve\n",
        "y_pred_knn_prob = knn_clf.predict_proba(xtest)[::,1]\n",
        "fprknn, tprknn, _ = metrics.roc_curve(ytest,  y_pred_knn_prob)\n",
        "aucknn = metrics.roc_auc_score(ytest, y_pred_knn_prob)\n",
        "plt.plot(fprknn,tprknn,label=\"KNN, auc=\"+str(aucknn))\n",
        "plt.title('ROC Curve - KNN')\n",
        "plt.xlabel('false positive rate') \n",
        "plt.ylabel('true positive rate')\n",
        "plt.legend(loc=4)\n",
        "plt.show()"
      ],
      "execution_count": null,
      "outputs": []
    },
    {
      "cell_type": "markdown",
      "metadata": {
        "id": "k_ud9CUAhLke"
      },
      "source": [
        "### **Comparison**"
      ]
    },
    {
      "cell_type": "code",
      "metadata": {
        "id": "Xp-XDQSrifig"
      },
      "source": [
        "# comparing model performance\n",
        "print('Naive-Bayes Accuracy:', acc_gnb)\n",
        "print('Naive-Bayes Precision:', prec_gnb)\n",
        "print('Naive-Bayes Recall:', rec_gnb)\n",
        "print('Naive-Bayes F1 Score:', f1_gnb)\n",
        "print(\"---------------------------\")\n",
        "print('KKN Accuracy:', acc_knn)\n",
        "print('KKN Precision:', prec_knn)\n",
        "print('KKN Recall:', rec_knn)\n",
        "print('KKN F1 Score:', f1_knn)"
      ],
      "execution_count": null,
      "outputs": []
    },
    {
      "cell_type": "code",
      "metadata": {
        "id": "vfFdd1P0iqti"
      },
      "source": [
        "# Comparing ROC Curve\n",
        "plt.plot(fprgnb,tprgnb,label=\"Naive Bayes, auc=\"+str(aucgnb))\n",
        "plt.plot(fprknn,tprknn,label=\"KNN, auc=\"+str(aucknn))\n",
        "plt.title('ROC Curve Comparison')\n",
        "plt.xlabel('False Positive Rate')\n",
        "plt.ylabel('True Positive Rate')\n",
        "plt.legend(loc=4)\n",
        "plt.show()"
      ],
      "execution_count": null,
      "outputs": []
    },
    {
      "cell_type": "code",
      "metadata": {
        "id": "wkWvf1KIiuKX"
      },
      "source": [
        "# Create Datafame Contains Fature and Result of prediction\n",
        "df_compare = xtest.copy()\n",
        "df_compare['ActualClass'] = ytest\n",
        "df_compare['NaiveBayes'] = y_pred_gnb\n",
        "df_compare['KNN'] = y_pred_knn\n",
        "df_compare.head()"
      ],
      "execution_count": null,
      "outputs": []
    },
    {
      "cell_type": "markdown",
      "metadata": {
        "id": "8pBGGAIAi11m"
      },
      "source": [
        "## **CONCLUSION**\n",
        "\n",
        "Based on the value of comparison, **Naive Bayes** is the best model."
      ]
    }
  ]
}